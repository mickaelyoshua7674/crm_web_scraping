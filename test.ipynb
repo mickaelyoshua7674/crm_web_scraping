{
 "cells": [
  {
   "cell_type": "code",
   "execution_count": 16,
   "metadata": {},
   "outputs": [],
   "source": [
    "import pickle as pk\n",
    "import pandas as pd"
   ]
  },
  {
   "cell_type": "code",
   "execution_count": 12,
   "metadata": {},
   "outputs": [
    {
     "name": "stdout",
     "output_type": "stream",
     "text": [
      "10\n"
     ]
    }
   ],
   "source": [
    "with open(\"last_collected_page.pkl\", \"rb\") as f:\n",
    "    print(pk.load(f))"
   ]
  },
  {
   "cell_type": "code",
   "execution_count": 13,
   "metadata": {},
   "outputs": [],
   "source": [
    "l = [['Gualter Lisboa Ramalho',\n",
    "'CRM: 4546-PB',\n",
    "'20/12/1995',\n",
    "'20/12/1995',\n",
    "'Principal',\n",
    "'Regular',\n",
    "'ANESTESIOLOGIA - RQE Nº: 2049 (Áreas de atuação: Dor - RQE Nº: 2537) / ACUPUNTURA - RQE Nº: 3526',\n",
    "'RUA MANOEL PAULINO JUNIOR 227 - TAMBAUZINHO - 58042000 - João Pessoa/PB',\n",
    "'(83) 32440908'],\n",
    "['Gustavo de Albuquerque Cavalcanti Mendes',\n",
    "'CRM: 7273-PB',\n",
    "'29/12/2014',\n",
    "'09/07/2010',\n",
    "'Secundária',\n",
    "'Regular',\n",
    "'ANESTESIOLOGIA - RQE Nº: 4484 (Áreas de atuação: Dor - RQE Nº: 6729)',\n",
    "'AV JESUS DE NAZARÉ,371 - JAGUARIBE - 58015340 - João Pessoa/PB',\n",
    "'(83) 35667054'],\n",
    "['Gustavo de Moura Peixoto',\n",
    "'CRM: 9544-PB',\n",
    "'02/02/2018',\n",
    "'17/12/2014',\n",
    "'Principal',\n",
    "'Regular',\n",
    "'ANESTESIOLOGIA - RQE Nº: 5367 (Áreas de atuação: Dor - RQE Nº: 6295)',\n",
    "'Exibição não autorizada pelo médico.',\n",
    "'Exibição não autorizada pelo médico.'],\n",
    "['Harison José de Oliveira',\n",
    "'CRM: 5533-PB',\n",
    "'23/04/2007',\n",
    "'07/10/2002',\n",
    "'Principal',\n",
    "'Regular',\n",
    "'ANESTESIOLOGIA - RQE Nº: 3426',\n",
    "'Exibição não autorizada pelo médico.',\n",
    "'Exibição não autorizada pelo médico.'],\n",
    "['Hercules Pereira Trindade',\n",
    "'CRM: 3774-PB',\n",
    "'25/03/1992',\n",
    "'25/03/1992',\n",
    "'Principal',\n",
    "'Regular',\n",
    "'ANESTESIOLOGIA - RQE Nº: 3530',\n",
    "'AV ALM BARROSO, 905 - CENTRO - 58013120 - João Pessoa/PB',\n",
    "'(83) 91219249'],\n",
    "['Hermano da Nóbrega Bezerra',\n",
    "'CRM: 6942-PB',\n",
    "'15/02/2013',\n",
    "'06/02/2009',\n",
    "'Principal',\n",
    "'Regular',\n",
    "'ANESTESIOLOGIA - RQE Nº: 4216',\n",
    "'Exibição não autorizada pelo médico.',\n",
    "'Exibição não autorizada pelo médico.'],\n",
    "['Heryka Fernanda Silva Barbosa',\n",
    "'CRM: 15500-PB',\n",
    "'04/10/2022',\n",
    "'04/10/2022',\n",
    "'Principal',\n",
    "'Regular',\n",
    "'ANESTESIOLOGIA - RQE Nº: 7831',\n",
    "'Exibição não autorizada pelo médico.',\n",
    "'Exibição não autorizada pelo médico.'],\n",
    "['Higor Felipe Cesar Ramalho da Silva',\n",
    "'CRM: 9865-PB',\n",
    "'24/02/2023',\n",
    "'15/06/2015',\n",
    "'Secundária',\n",
    "'Regular',\n",
    "'ANESTESIOLOGIA - RQE Nº: 7985 / MEDICINA DE FAMÍLIA E COMUNIDADE - RQE Nº: 7986',\n",
    "'Exibição não autorizada pelo médico.',\n",
    "'Exibição não autorizada pelo médico.'],\n",
    "['Homero Max de Assis e Sá',\n",
    "'CRM: 11756-PB',\n",
    "'24/07/2018',\n",
    "'24/07/2018',\n",
    "'Principal',\n",
    "'Regular',\n",
    "'ANESTESIOLOGIA - RQE Nº: 7412',\n",
    "'Exibição não autorizada pelo médico.',\n",
    "'Exibição não autorizada pelo médico.'],\n",
    "['Humberto Arcoverde Viana Coêlho',\n",
    "'CRM: 7598-PB',\n",
    "'31/08/2015',\n",
    "'02/06/2011',\n",
    "'Secundária',\n",
    "'Regular',\n",
    "'ANESTESIOLOGIA - RQE Nº: 6591 (Áreas de atuação: Dor - RQE Nº: 7529)',\n",
    "'Exibição não autorizada pelo médico.',\n",
    "'Exibição não autorizada pelo médico.']]"
   ]
  },
  {
   "cell_type": "code",
   "execution_count": 15,
   "metadata": {},
   "outputs": [
    {
     "data": {
      "text/plain": [
       "['CRM: 4546-PB',\n",
       " 'CRM: 7273-PB',\n",
       " 'CRM: 9544-PB',\n",
       " 'CRM: 5533-PB',\n",
       " 'CRM: 3774-PB',\n",
       " 'CRM: 6942-PB',\n",
       " 'CRM: 15500-PB',\n",
       " 'CRM: 9865-PB',\n",
       " 'CRM: 11756-PB',\n",
       " 'CRM: 7598-PB']"
      ]
     },
     "execution_count": 15,
     "metadata": {},
     "output_type": "execute_result"
    }
   ],
   "source": [
    "crms = [i[1] for i in l]\n",
    "crms"
   ]
  },
  {
   "cell_type": "code",
   "execution_count": 19,
   "metadata": {},
   "outputs": [],
   "source": [
    "df = pd.read_csv(\"crm_pb_data.csv\")"
   ]
  },
  {
   "cell_type": "code",
   "execution_count": 21,
   "metadata": {},
   "outputs": [
    {
     "name": "stdout",
     "output_type": "stream",
     "text": [
      "Achei\n",
      "CRM: 4546-PB\n"
     ]
    }
   ],
   "source": [
    "for c in crms:\n",
    "    if c in df[\"crm\"].unique():\n",
    "        print(\"Achei\")\n",
    "        print(c)"
   ]
  },
  {
   "cell_type": "code",
   "execution_count": 22,
   "metadata": {},
   "outputs": [],
   "source": [
    "l.remove(['Gualter Lisboa Ramalho',\n",
    "'CRM: 4546-PB',\n",
    "'20/12/1995',\n",
    "'20/12/1995',\n",
    "'Principal',\n",
    "'Regular',\n",
    "'ANESTESIOLOGIA - RQE Nº: 2049 (Áreas de atuação: Dor - RQE Nº: 2537) / ACUPUNTURA - RQE Nº: 3526',\n",
    "'RUA MANOEL PAULINO JUNIOR 227 - TAMBAUZINHO - 58042000 - João Pessoa/PB',\n",
    "'(83) 32440908'])"
   ]
  },
  {
   "cell_type": "code",
   "execution_count": 23,
   "metadata": {},
   "outputs": [
    {
     "data": {
      "text/plain": [
       "[['Gustavo de Albuquerque Cavalcanti Mendes',\n",
       "  'CRM: 7273-PB',\n",
       "  '29/12/2014',\n",
       "  '09/07/2010',\n",
       "  'Secundária',\n",
       "  'Regular',\n",
       "  'ANESTESIOLOGIA - RQE Nº: 4484 (Áreas de atuação: Dor - RQE Nº: 6729)',\n",
       "  'AV JESUS DE NAZARÉ,371 - JAGUARIBE - 58015340 - João Pessoa/PB',\n",
       "  '(83) 35667054'],\n",
       " ['Gustavo de Moura Peixoto',\n",
       "  'CRM: 9544-PB',\n",
       "  '02/02/2018',\n",
       "  '17/12/2014',\n",
       "  'Principal',\n",
       "  'Regular',\n",
       "  'ANESTESIOLOGIA - RQE Nº: 5367 (Áreas de atuação: Dor - RQE Nº: 6295)',\n",
       "  'Exibição não autorizada pelo médico.',\n",
       "  'Exibição não autorizada pelo médico.'],\n",
       " ['Harison José de Oliveira',\n",
       "  'CRM: 5533-PB',\n",
       "  '23/04/2007',\n",
       "  '07/10/2002',\n",
       "  'Principal',\n",
       "  'Regular',\n",
       "  'ANESTESIOLOGIA - RQE Nº: 3426',\n",
       "  'Exibição não autorizada pelo médico.',\n",
       "  'Exibição não autorizada pelo médico.'],\n",
       " ['Hercules Pereira Trindade',\n",
       "  'CRM: 3774-PB',\n",
       "  '25/03/1992',\n",
       "  '25/03/1992',\n",
       "  'Principal',\n",
       "  'Regular',\n",
       "  'ANESTESIOLOGIA - RQE Nº: 3530',\n",
       "  'AV ALM BARROSO, 905 - CENTRO - 58013120 - João Pessoa/PB',\n",
       "  '(83) 91219249'],\n",
       " ['Hermano da Nóbrega Bezerra',\n",
       "  'CRM: 6942-PB',\n",
       "  '15/02/2013',\n",
       "  '06/02/2009',\n",
       "  'Principal',\n",
       "  'Regular',\n",
       "  'ANESTESIOLOGIA - RQE Nº: 4216',\n",
       "  'Exibição não autorizada pelo médico.',\n",
       "  'Exibição não autorizada pelo médico.'],\n",
       " ['Heryka Fernanda Silva Barbosa',\n",
       "  'CRM: 15500-PB',\n",
       "  '04/10/2022',\n",
       "  '04/10/2022',\n",
       "  'Principal',\n",
       "  'Regular',\n",
       "  'ANESTESIOLOGIA - RQE Nº: 7831',\n",
       "  'Exibição não autorizada pelo médico.',\n",
       "  'Exibição não autorizada pelo médico.'],\n",
       " ['Higor Felipe Cesar Ramalho da Silva',\n",
       "  'CRM: 9865-PB',\n",
       "  '24/02/2023',\n",
       "  '15/06/2015',\n",
       "  'Secundária',\n",
       "  'Regular',\n",
       "  'ANESTESIOLOGIA - RQE Nº: 7985 / MEDICINA DE FAMÍLIA E COMUNIDADE - RQE Nº: 7986',\n",
       "  'Exibição não autorizada pelo médico.',\n",
       "  'Exibição não autorizada pelo médico.'],\n",
       " ['Homero Max de Assis e Sá',\n",
       "  'CRM: 11756-PB',\n",
       "  '24/07/2018',\n",
       "  '24/07/2018',\n",
       "  'Principal',\n",
       "  'Regular',\n",
       "  'ANESTESIOLOGIA - RQE Nº: 7412',\n",
       "  'Exibição não autorizada pelo médico.',\n",
       "  'Exibição não autorizada pelo médico.'],\n",
       " ['Humberto Arcoverde Viana Coêlho',\n",
       "  'CRM: 7598-PB',\n",
       "  '31/08/2015',\n",
       "  '02/06/2011',\n",
       "  'Secundária',\n",
       "  'Regular',\n",
       "  'ANESTESIOLOGIA - RQE Nº: 6591 (Áreas de atuação: Dor - RQE Nº: 7529)',\n",
       "  'Exibição não autorizada pelo médico.',\n",
       "  'Exibição não autorizada pelo médico.']]"
      ]
     },
     "execution_count": 23,
     "metadata": {},
     "output_type": "execute_result"
    }
   ],
   "source": [
    "l"
   ]
  },
  {
   "cell_type": "code",
   "execution_count": null,
   "metadata": {},
   "outputs": [],
   "source": []
  }
 ],
 "metadata": {
  "kernelspec": {
   "display_name": "Python 3",
   "language": "python",
   "name": "python3"
  },
  "language_info": {
   "codemirror_mode": {
    "name": "ipython",
    "version": 3
   },
   "file_extension": ".py",
   "mimetype": "text/x-python",
   "name": "python",
   "nbconvert_exporter": "python",
   "pygments_lexer": "ipython3",
   "version": "3.9.0"
  },
  "orig_nbformat": 4
 },
 "nbformat": 4,
 "nbformat_minor": 2
}
