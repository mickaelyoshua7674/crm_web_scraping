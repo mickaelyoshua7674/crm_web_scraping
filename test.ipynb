{
 "cells": [
  {
   "cell_type": "code",
   "execution_count": 57,
   "metadata": {},
   "outputs": [],
   "source": [
    "import pandas as pd\n",
    "from os.path import exists"
   ]
  },
  {
   "cell_type": "code",
   "execution_count": 58,
   "metadata": {},
   "outputs": [],
   "source": [
    "COLUMNS = [\"crm\", \"name\", \"data_inscricao\", \"prim_inscricao\", \"inscricao\", \"situacao\", \"endereco\", \"telefone\"]\n",
    "\n",
    "if not exists(\"crm_pb_data.csv\"):\n",
    "    pd.DataFrame(columns=COLUMNS).to_csv(\"crm_pb_data.csv\", header=True, index=False)"
   ]
  },
  {
   "cell_type": "code",
   "execution_count": 59,
   "metadata": {},
   "outputs": [],
   "source": [
    "data = [[\"1\", \"2\", \"3\", \"4\", \"5\", \"6\", \"7\", \"8\"], [\"A\", \"B\", \"C\", \"D\", \"E\", \"F\", \"G\", \"H\"], [\"a\", \"b\", \"c\", \"d\", \"e\", \"f\", \"g\", \"h\"]]"
   ]
  },
  {
   "cell_type": "code",
   "execution_count": 62,
   "metadata": {},
   "outputs": [],
   "source": [
    "pd.DataFrame(data=data, columns=COLUMNS).to_csv(\"crm_pb_data.csv\", header=False, index=False, mode=\"a\")"
   ]
  },
  {
   "cell_type": "code",
   "execution_count": null,
   "metadata": {},
   "outputs": [],
   "source": []
  }
 ],
 "metadata": {
  "kernelspec": {
   "display_name": "Python 3",
   "language": "python",
   "name": "python3"
  },
  "language_info": {
   "codemirror_mode": {
    "name": "ipython",
    "version": 3
   },
   "file_extension": ".py",
   "mimetype": "text/x-python",
   "name": "python",
   "nbconvert_exporter": "python",
   "pygments_lexer": "ipython3",
   "version": "3.9.0"
  },
  "orig_nbformat": 4
 },
 "nbformat": 4,
 "nbformat_minor": 2
}
