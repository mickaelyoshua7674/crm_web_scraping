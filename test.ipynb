{
 "cells": [
  {
   "cell_type": "code",
   "execution_count": 5,
   "metadata": {},
   "outputs": [
    {
     "name": "stdout",
     "output_type": "stream",
     "text": [
      "Aliane Barbosa Leal de Sousa\n",
      "CRM: 2865-PB\n",
      "Data de Inscrição: 22/06/1983\n",
      "Primeira inscrição na UF: 22/06/1983\n",
      "Inscrição: Principal\n",
      "Situação: Regular\n",
      "Especialidades/Áreas de Atuação:\n",
      "NEUROLOGIA - RQE Nº: 2156\n",
      "ACUPUNTURA - RQE Nº: 2312\n",
      "Endereço: AVENIDA MINISTRO JOSE AMERICO DE ALMEIDA 4007 - TAMBAUZINHO / MIRAMAR - 58043360 - João Pessoa/PB\n",
      "Telefone: (83) 32446425\n"
     ]
    }
   ],
   "source": [
    "text = 'Aliane Barbosa Leal de Sousa\\nCRM: 2865-PB\\nData de Inscrição: 22/06/1983\\nPrimeira inscrição na UF: 22/06/1983\\nInscrição: Principal\\nSituação: Regular\\nEspecialidades/Áreas de Atuação:\\nNEUROLOGIA - RQE Nº: 2156\\nACUPUNTURA - RQE Nº: 2312\\nEndereço: AVENIDA MINISTRO JOSE AMERICO DE ALMEIDA 4007 - TAMBAUZINHO / MIRAMAR - 58043360 - João Pessoa/PB\\nTelefone: (83) 32446425'\n",
    "print(text)"
   ]
  },
  {
   "cell_type": "code",
   "execution_count": 6,
   "metadata": {},
   "outputs": [],
   "source": [
    "COLUMNS = [\"nome\", \"crm\", \"data_inscricao\", \"prim_inscricao\", \"inscricao\", \"situacao\", \"Especialidades\", \"endereco\", \"telefone\"]"
   ]
  },
  {
   "cell_type": "code",
   "execution_count": 7,
   "metadata": {},
   "outputs": [
    {
     "data": {
      "text/plain": [
       "['Aliane Barbosa Leal de Sousa',\n",
       " 'CRM: 2865-PB',\n",
       " 'Data de Inscrição: 22/06/1983',\n",
       " 'Primeira inscrição na UF: 22/06/1983',\n",
       " 'Inscrição: Principal',\n",
       " 'Situação: Regular',\n",
       " 'Especialidades/Áreas de Atuação:',\n",
       " 'NEUROLOGIA - RQE Nº: 2156',\n",
       " 'ACUPUNTURA - RQE Nº: 2312',\n",
       " 'Endereço: AVENIDA MINISTRO JOSE AMERICO DE ALMEIDA 4007 - TAMBAUZINHO / MIRAMAR - 58043360 - João Pessoa/PB',\n",
       " 'Telefone: (83) 32446425']"
      ]
     },
     "execution_count": 7,
     "metadata": {},
     "output_type": "execute_result"
    }
   ],
   "source": [
    "text_lines = text.splitlines()\n",
    "text_lines"
   ]
  },
  {
   "cell_type": "code",
   "execution_count": 15,
   "metadata": {},
   "outputs": [
    {
     "data": {
      "text/plain": [
       "('Aliane Barbosa Leal de Sousa',\n",
       " 'CRM: 2865-PB',\n",
       " '22/06/1983',\n",
       " '22/06/1983',\n",
       " 'Principal',\n",
       " 'Regular',\n",
       " 'NEUROLOGIA - RQE Nº: 2156 / ACUPUNTURA - RQE Nº: 2312',\n",
       " 'AVENIDA MINISTRO JOSE AMERICO DE ALMEIDA 4007 - TAMBAUZINHO / MIRAMAR - 58043360 - João Pessoa/PB',\n",
       " '(83) 32446425')"
      ]
     },
     "execution_count": 15,
     "metadata": {},
     "output_type": "execute_result"
    }
   ],
   "source": [
    "text_lines[0], text_lines[1], text_lines[2].split(\": \")[-1], text_lines[3].split(\": \")[-1], text_lines[4].split(\": \")[-1], text_lines[5].split(\": \")[-1], \" / \".join(text_lines[text_lines.index('Especialidades/Áreas de Atuação:')+1:-2]), text_lines[-2].split(\": \")[-1], text_lines[-1].split(\": \")[-1]"
   ]
  },
  {
   "cell_type": "code",
   "execution_count": 14,
   "metadata": {},
   "outputs": [
    {
     "data": {
      "text/plain": [
       "'NEUROLOGIA - RQE Nº: 2156 / ACUPUNTURA - RQE Nº: 2312'"
      ]
     },
     "execution_count": 14,
     "metadata": {},
     "output_type": "execute_result"
    }
   ],
   "source": [
    "\" / \".join(text_lines[text_lines.index('Especialidades/Áreas de Atuação:')+1:-2])"
   ]
  },
  {
   "cell_type": "code",
   "execution_count": null,
   "metadata": {},
   "outputs": [],
   "source": []
  }
 ],
 "metadata": {
  "kernelspec": {
   "display_name": "Python 3",
   "language": "python",
   "name": "python3"
  },
  "language_info": {
   "codemirror_mode": {
    "name": "ipython",
    "version": 3
   },
   "file_extension": ".py",
   "mimetype": "text/x-python",
   "name": "python",
   "nbconvert_exporter": "python",
   "pygments_lexer": "ipython3",
   "version": "3.9.0"
  },
  "orig_nbformat": 4
 },
 "nbformat": 4,
 "nbformat_minor": 2
}
